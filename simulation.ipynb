{
 "cells": [
  {
   "cell_type": "code",
   "execution_count": 1,
   "id": "satisfied-uruguay",
   "metadata": {},
   "outputs": [],
   "source": [
    "import numpy as np\n",
    "import matplotlib.pyplot as plt"
   ]
  },
  {
   "cell_type": "code",
   "execution_count": 12,
   "id": "limited-tobago",
   "metadata": {},
   "outputs": [],
   "source": [
    "def diff_eqn_josh():\n",
    "    return 1/(L*m)*(\n",
    "        k1*v[-1]*dt**3\n",
    "        -z[-1]*(-3*L*m+R*m*dt)\n",
    "        -z[-2]*(3*L*m-2*R*m-k2*L*dt**2)\n",
    "        -z[-3]*(L*m+R*m*dt+k2*L*dt**2-k2*R*dt**3)\n",
    "    )"
   ]
  },
  {
   "cell_type": "code",
   "execution_count": 61,
   "id": "sunrise-elements",
   "metadata": {},
   "outputs": [],
   "source": [
    "L = 1e-3 # coil inductance (Henry)\n",
    "m = 0.05 # magnet mass (kg)\n",
    "R = 2 # coil resistance (Ohm)\n",
    "dt = 0.001 # Time step (s)\n",
    "k1 = 1 # electrical constant\n",
    "k2 = 1 # positional constant\n",
    "v = [10] # Drive voltage (V)\n",
    "z0 = -0.00000005 # equilibrium position (m) \n",
    "z = [z0, z0, z0] # position array"
   ]
  },
  {
   "cell_type": "code",
   "execution_count": 62,
   "id": "personalized-spotlight",
   "metadata": {},
   "outputs": [],
   "source": [
    "t = [0, dt, 2*dt]\n",
    "for i in range(50):\n",
    "    t.append((3+i)*dt)\n",
    "    z.append(diff_eqn_josh())"
   ]
  },
  {
   "cell_type": "code",
   "execution_count": 63,
   "id": "alone-reverse",
   "metadata": {},
   "outputs": [
    {
     "data": {
      "text/plain": [
       "[<matplotlib.lines.Line2D at 0x7f2855138310>]"
      ]
     },
     "execution_count": 63,
     "metadata": {},
     "output_type": "execute_result"
    },
    {
     "data": {
      "image/png": "[encoded data removed]",
      "text/plain": [
       "<Figure size 432x288 with 1 Axes>"
      ]
     },
     "metadata": {
      "needs_background": "light"
     },
     "output_type": "display_data"
    }
   ],
   "source": [
    "fig, ax = plt.subplots()\n",
    "ax.plot(t, z)"
   ]
  },
  {
   "cell_type": "code",
   "execution_count": null,
   "id": "mathematical-transportation",
   "metadata": {},
   "outputs": [],
   "source": []
  },
  {
   "cell_type": "code",
   "execution_count": null,
   "id": "presidential-representative",
   "metadata": {},
   "outputs": [],
   "source": []
  }
 ],
 "metadata": {
  "kernelspec": {
   "display_name": "Python 3",
   "language": "python",
   "name": "python3"
  },
  "language_info": {
   "codemirror_mode": {
    "name": "ipython",
    "version": 3
   },
   "file_extension": ".py",
   "mimetype": "text/x-python",
   "name": "python",
   "nbconvert_exporter": "python",
   "pygments_lexer": "ipython3",
   "version": "3.8.6"
  }
 },
 "nbformat": 4,
 "nbformat_minor": 5
}
