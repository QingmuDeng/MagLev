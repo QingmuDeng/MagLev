{
 "cells": [
  {
   "cell_type": "code",
   "execution_count": 23,
   "id": "increased-mobility",
   "metadata": {},
   "outputs": [],
   "source": [
    "import pickle\n",
    "import numpy as np\n",
    "from matplotlib import pyplot as plt\n",
    "import scipy.optimize as opt"
   ]
  },
  {
   "cell_type": "code",
   "execution_count": 131,
   "id": "single-witch",
   "metadata": {},
   "outputs": [],
   "source": [
    "infile = open(\"hallvolt0\",'rb')\n",
    "hvolt = pickle.load(infile)\n",
    "infile.close()\n"
   ]
  },
  {
   "cell_type": "code",
   "execution_count": 132,
   "id": "sporting-fifteen",
   "metadata": {},
   "outputs": [],
   "source": [
    "j = 27\n",
    "pos = np.array(list(hvolt.keys()))[j:]\n",
    "volt = np.array(list(hvolt.values()))[j:]"
   ]
  },
  {
   "cell_type": "code",
   "execution_count": 144,
   "id": "trained-teach",
   "metadata": {},
   "outputs": [
    {
     "data": {
      "text/plain": [
       "array([4.2       , 4.2       , 4.2       , 4.2       , 4.2       ,\n",
       "       4.2       , 4.2       , 4.2       , 4.2       , 4.2       ,\n",
       "       4.2       , 4.2       , 4.2       , 4.2       , 4.2       ,\n",
       "       4.2       , 4.2       , 4.2       , 4.2       , 4.2       ,\n",
       "       4.2       , 4.2       , 4.2       , 4.2       , 4.2       ,\n",
       "       4.2       , 4.19055355, 4.06630086, 3.95480429, 3.85488447,\n",
       "       3.76484357, 3.68326824, 3.60926917, 3.54190352, 3.48038832,\n",
       "       3.42389866, 3.37204465, 3.32476558, 3.28080273, 3.24027932,\n",
       "       3.20265849, 3.16798841, 3.13550487, 3.10544768, 3.07736156,\n",
       "       3.0510383 , 3.02648685, 3.00347987, 2.98195913, 2.96156482,\n",
       "       2.94259829, 2.92437813, 2.90761762, 2.89173181, 2.87651707,\n",
       "       2.86212079, 2.8486703 , 2.83577555, 2.82361305, 2.81224912,\n",
       "       2.80115138, 2.79071735, 2.78089986, 2.77127117, 2.76256232,\n",
       "       2.75359897, 2.7455276 , 2.73761514, 2.73013204, 2.72282022,\n",
       "       2.71586448, 2.70948193, 2.70321198, 2.69723253, 2.69122393,\n",
       "       2.68560241, 2.68025127, 2.67513936, 2.67010884, 2.66526912,\n",
       "       2.66076297, 2.65628285, 2.65191476, 2.64784316, 2.64384577,\n",
       "       2.64011941, 2.63626761, 2.63291142, 2.62930746, 2.62592129,\n",
       "       2.62285031, 2.61969027, 2.61656616, 2.61365973, 2.61098094,\n",
       "       2.60820613, 2.60545545, 2.60286792, 2.60044611, 2.59803026,\n",
       "       2.59553185, 2.59333867, 2.59107959, 2.58897404, 2.5868839 ,\n",
       "       2.58485808, 2.58296138, 2.58101766, 2.5790395 , 2.57737507,\n",
       "       2.57565463, 2.57386637, 2.57209707, 2.57042065, 2.56893305,\n",
       "       2.56742381, 2.56596791, 2.56443479, 2.56300399, 2.56164754,\n",
       "       2.56028501, 2.55913019, 2.55775597, 2.55639196, 2.55524621,\n",
       "       2.55400175, 2.55281695, 2.55159999, 2.55060519, 2.54923174,\n",
       "       2.54839431, 2.54729131, 2.5464192 , 2.54546394, 2.54432909,\n",
       "       2.54353024, 2.54260523, 2.54162624, 2.54065995, 2.53987482,\n",
       "       2.53867998, 2.5382018 , 2.53743206, 2.53654811, 2.53575684,\n",
       "       2.53482651, 2.53430143, 2.53332604, 2.53282897, 2.53193406,\n",
       "       2.53138329, 2.53073777, 2.53001952, 2.52943449, 2.52880757,\n",
       "       2.52800498, 2.52760855, 2.52692873, 2.52633408, 2.52575766,\n",
       "       2.52522688, 2.524519  , 2.52415794, 2.52363723, 2.52316276,\n",
       "       2.52250659, 2.5218765 , 2.52155419, 2.5210026 , 2.52051094,\n",
       "       2.52003757, 2.51959354, 2.51914915, 2.51864869, 2.51815509,\n",
       "       2.5177012 , 2.51743832, 2.51679991, 2.51646573, 2.51620703,\n",
       "       2.51573553, 2.51540166, 2.51504741, 2.5145645 , 2.51413206,\n",
       "       2.51374558, 2.51335501, 2.51297767, 2.51267093, 2.5125223 ,\n",
       "       2.51201749, 2.51183006, 2.51129596, 2.51095189, 2.5106323 ,\n",
       "       2.51024326, 2.5099951 , 2.50989575, 2.50937506, 2.50911269])"
      ]
     },
     "execution_count": 144,
     "metadata": {},
     "output_type": "execute_result"
    }
   ],
   "source": [
    "np.array(list(hvolt.values()))"
   ]
  },
  {
   "cell_type": "code",
   "execution_count": 133,
   "id": "abandoned-justice",
   "metadata": {},
   "outputs": [
    {
     "data": {
      "text/plain": [
       "[<matplotlib.lines.Line2D at 0x7fbc250881f0>]"
      ]
     },
     "execution_count": 133,
     "metadata": {},
     "output_type": "execute_result"
    },
    {
     "data": {
      "image/png": "[encoded data removed]",
      "text/plain": [
       "<Figure size 432x288 with 1 Axes>"
      ]
     },
     "metadata": {
      "needs_background": "light"
     },
     "output_type": "display_data"
    }
   ],
   "source": [
    "fig, ax = plt.subplots()\n",
    "\n",
    "ax.plot(pos, volt,\".\")"
   ]
  },
  {
   "cell_type": "code",
   "execution_count": 134,
   "id": "shaped-dream",
   "metadata": {},
   "outputs": [],
   "source": [
    "def x2(X):\n",
    "    return X[0]/pos**2+X[1]/pos**1+X[2]\n",
    "\n",
    "def x2_err(X):\n",
    "    return sum((volt-x2(X))**2)"
   ]
  },
  {
   "cell_type": "code",
   "execution_count": 135,
   "id": "external-contractor",
   "metadata": {},
   "outputs": [
    {
     "data": {
      "text/plain": [
       "219.85138910931943"
      ]
     },
     "execution_count": 135,
     "metadata": {},
     "output_type": "execute_result"
    }
   ],
   "source": [
    "x2_err(np.array([0.001, 0.01, 1.0]))"
   ]
  },
  {
   "cell_type": "code",
   "execution_count": 136,
   "id": "developing-sphere",
   "metadata": {},
   "outputs": [
    {
     "data": {
      "text/plain": [
       "      fun: 1.704706008688094e-06\n",
       " hess_inv: array([[ 4.71210948e-08, -3.24749083e-06,  4.01145198e-05],\n",
       "       [-3.24749083e-06,  2.37586564e-04, -3.08448966e-03],\n",
       "       [ 4.01145198e-05, -3.08448966e-03,  4.44674662e-02]])\n",
       "      jac: array([-7.92015598e-07,  1.02871456e-06, -1.33400306e-06])\n",
       "  message: 'Optimization terminated successfully.'\n",
       "     nfev: 36\n",
       "      nit: 5\n",
       "     njev: 9\n",
       "   status: 0\n",
       "  success: True\n",
       "        x: array([2.91788931e-04, 1.45567399e-05, 2.47981940e+00])"
      ]
     },
     "execution_count": 136,
     "metadata": {},
     "output_type": "execute_result"
    }
   ],
   "source": [
    "out = opt.minimize(\n",
    "    x2_err,\n",
    "    np.array([0.001, 0.01, 1.0])\n",
    ")\n",
    "out"
   ]
  },
  {
   "cell_type": "code",
   "execution_count": 130,
   "id": "downtown-milan",
   "metadata": {},
   "outputs": [
    {
     "data": {
      "text/plain": [
       "      fun: 1.4651487283365909e-06\n",
       " hess_inv: array([[ 4.71210917e-08, -3.24749062e-06,  4.01145176e-05],\n",
       "       [-3.24749062e-06,  2.37586550e-04, -3.08448953e-03],\n",
       "       [ 4.01145176e-05, -3.08448953e-03,  4.44674652e-02]])\n",
       "      jac: array([-0.02726316, -0.00720753,  0.00045509])\n",
       "  message: 'Desired error not necessarily achieved due to precision loss.'\n",
       "     nfev: 236\n",
       "      nit: 3\n",
       "     njev: 56\n",
       "   status: 2\n",
       "  success: False\n",
       "        x: array([2.91801933e-04, 1.28977530e-05, 9.09925753e-01])"
      ]
     },
     "execution_count": 130,
     "metadata": {},
     "output_type": "execute_result"
    }
   ],
   "source": [
    "out = opt.minimize(\n",
    "    x2_err,\n",
    "    np.array([0.001, 0.01, 1.0])\n",
    ")\n",
    "out"
   ]
  },
  {
   "cell_type": "code",
   "execution_count": 137,
   "id": "greater-hours",
   "metadata": {},
   "outputs": [
    {
     "data": {
      "text/plain": [
       "[<matplotlib.lines.Line2D at 0x7fbc24e1f6a0>]"
      ]
     },
     "execution_count": 137,
     "metadata": {},
     "output_type": "execute_result"
    },
    {
     "data": {
      "image/png": "[encoded data removed]",
      "text/plain": [
       "<Figure size 432x288 with 1 Axes>"
      ]
     },
     "metadata": {
      "needs_background": "light"
     },
     "output_type": "display_data"
    }
   ],
   "source": [
    "fig, ax = plt.subplots()\n",
    "\n",
    "ax.plot(pos, volt,\"o\")\n",
    "ax.plot(pos, x2(out.x),\"--\")"
   ]
  },
  {
   "cell_type": "code",
   "execution_count": 138,
   "id": "steady-count",
   "metadata": {},
   "outputs": [],
   "source": [
    "def inv_x2(X):\n",
    "    return (-X[1]-np.sqrt(X[1]**2-4*X[0]*(X[2]-volt)))/(2*(X[2]-volt))"
   ]
  },
  {
   "cell_type": "code",
   "execution_count": 139,
   "id": "initial-triumph",
   "metadata": {},
   "outputs": [
    {
     "data": {
      "text/plain": [
       "[<matplotlib.lines.Line2D at 0x7fbc2556dd90>]"
      ]
     },
     "execution_count": 139,
     "metadata": {},
     "output_type": "execute_result"
    },
    {
     "data": {
      "image/png": "[encoded data removed]",
      "text/plain": [
       "<Figure size 720x432 with 1 Axes>"
      ]
     },
     "metadata": {
      "needs_background": "light"
     },
     "output_type": "display_data"
    }
   ],
   "source": [
    "fig, ax = plt.subplots(figsize=(10,6))\n",
    "\n",
    "ax.plot(pos, volt,\"o\")\n",
    "ax.plot(pos, x2(out.x),\"--\")\n",
    "ax.plot(inv_x2(out.x), volt,\":\")"
   ]
  },
  {
   "cell_type": "code",
   "execution_count": 92,
   "id": "ethical-clone",
   "metadata": {},
   "outputs": [
    {
     "data": {
      "text/plain": [
       "[<matplotlib.lines.Line2D at 0x7fbc25376880>]"
      ]
     },
     "execution_count": 92,
     "metadata": {},
     "output_type": "execute_result"
    },
    {
     "data": {
      "image/png": "[encoded data removed]",
      "text/plain": [
       "<Figure size 432x288 with 1 Axes>"
      ]
     },
     "metadata": {
      "needs_background": "light"
     },
     "output_type": "display_data"
    }
   ],
   "source": [
    "fig, ax = plt.subplots()\n",
    "\n",
    "ax.plot(volt, pos, \"o\")"
   ]
  },
  {
   "cell_type": "code",
   "execution_count": 95,
   "id": "comic-specific",
   "metadata": {},
   "outputs": [
    {
     "data": {
      "text/plain": [
       "[<matplotlib.lines.Line2D at 0x7fbc25277670>]"
      ]
     },
     "execution_count": 95,
     "metadata": {},
     "output_type": "execute_result"
    },
    {
     "data": {
      "image/png": "[encoded data removed]",
      "text/plain": [
       "<Figure size 432x288 with 1 Axes>"
      ]
     },
     "metadata": {
      "needs_background": "light"
     },
     "output_type": "display_data"
    }
   ],
   "source": [
    "fig, ax = plt.subplots()\n",
    "\n",
    "# ax.plot(pos, volt,\"o\")\n",
    "# ax.plot(pos, x2(out.x),\"--\")\n",
    "ax.plot(volt, inv_x2(out.x), \"o--\")"
   ]
  },
  {
   "cell_type": "code",
   "execution_count": 156,
   "id": "diagnostic-birthday",
   "metadata": {
    "scrolled": true
   },
   "outputs": [
    {
     "data": {
      "text/plain": [
       "array([0.00770629, 0.00783935, 0.0077392 , ..., 0.00763714, 0.00802059,\n",
       "       0.00788673])"
      ]
     },
     "execution_count": 156,
     "metadata": {},
     "output_type": "execute_result"
    }
   ],
   "source": [
    "infile = open(\"hallvolt200_1500\",'rb')\n",
    "hvolt200 = pickle.load(infile)\n",
    "infile.close()\n",
    "\n",
    "j = 150\n",
    "pos200 = np.array(list(hvolt200.keys()))[j:]\n",
    "volt200 = np.array(list(hvolt200.values()))[j:]\n",
    "\n",
    "infile = open(\"hallvolt201_1500\",'rb')\n",
    "hvolt201 = pickle.load(infile)\n",
    "infile.close()\n",
    "\n",
    "pos201 = np.array(list(hvolt201.keys()))[j:]\n",
    "volt201 = np.array(list(hvolt201.values()))[j:]\n",
    "\n",
    "volt200-volt201"
   ]
  },
  {
   "cell_type": "code",
   "execution_count": 157,
   "id": "unexpected-cylinder",
   "metadata": {},
   "outputs": [
    {
     "data": {
      "text/plain": [
       "(array([ 2.,  1.,  4.,  1.,  5.,  3.,  4.,  9.,  4.,  9., 19., 18., 23.,\n",
       "        24., 30., 37., 38., 37., 43., 49., 61., 51., 54., 56., 58., 67.,\n",
       "        66., 48., 49., 63., 63., 50., 35., 48., 42., 37., 36., 24., 19.,\n",
       "        13., 15., 11.,  6.,  5.,  3.,  4.,  0.,  3.,  0.,  3.]),\n",
       " array([0.00743236, 0.00744739, 0.00746242, 0.00747746, 0.00749249,\n",
       "        0.00750753, 0.00752256, 0.00753759, 0.00755263, 0.00756766,\n",
       "        0.0075827 , 0.00759773, 0.00761277, 0.0076278 , 0.00764283,\n",
       "        0.00765787, 0.0076729 , 0.00768794, 0.00770297, 0.007718  ,\n",
       "        0.00773304, 0.00774807, 0.00776311, 0.00777814, 0.00779318,\n",
       "        0.00780821, 0.00782324, 0.00783828, 0.00785331, 0.00786835,\n",
       "        0.00788338, 0.00789841, 0.00791345, 0.00792848, 0.00794352,\n",
       "        0.00795855, 0.00797359, 0.00798862, 0.00800365, 0.00801869,\n",
       "        0.00803372, 0.00804876, 0.00806379, 0.00807882, 0.00809386,\n",
       "        0.00810889, 0.00812393, 0.00813896, 0.00815399, 0.00816903,\n",
       "        0.00818406]),\n",
       " <BarContainer object of 50 artists>)"
      ]
     },
     "execution_count": 157,
     "metadata": {},
     "output_type": "execute_result"
    },
    {
     "data": {
      "image/png": "[encoded data removed]",
      "text/plain": [
       "<Figure size 432x288 with 1 Axes>"
      ]
     },
     "metadata": {
      "needs_background": "light"
     },
     "output_type": "display_data"
    }
   ],
   "source": [
    "plt.hist(volt200-volt201, 50)"
   ]
  },
  {
   "cell_type": "code",
   "execution_count": 158,
   "id": "unlike-debut",
   "metadata": {},
   "outputs": [
    {
     "data": {
      "text/plain": [
       "0.00781386030738015"
      ]
     },
     "execution_count": 158,
     "metadata": {},
     "output_type": "execute_result"
    }
   ],
   "source": [
    "np.mean(volt200-volt201)"
   ]
  },
  {
   "cell_type": "code",
   "execution_count": 159,
   "id": "welcome-helen",
   "metadata": {},
   "outputs": [
    {
     "data": {
      "text/plain": [
       "0.00781386030738015"
      ]
     },
     "execution_count": 159,
     "metadata": {},
     "output_type": "execute_result"
    }
   ],
   "source": [
    "np.mean(volt200-volt201)"
   ]
  },
  {
   "cell_type": "code",
   "execution_count": 160,
   "id": "occasional-start",
   "metadata": {},
   "outputs": [
    {
     "data": {
      "text/plain": [
       "0.0001269869171612698"
      ]
     },
     "execution_count": 160,
     "metadata": {},
     "output_type": "execute_result"
    }
   ],
   "source": [
    "np.std(volt200-volt201)"
   ]
  },
  {
   "cell_type": "code",
   "execution_count": null,
   "id": "brief-commission",
   "metadata": {},
   "outputs": [],
   "source": []
  }
 ],
 "metadata": {
  "kernelspec": {
   "display_name": "Python 3",
   "language": "python",
   "name": "python3"
  },
  "language_info": {
   "codemirror_mode": {
    "name": "ipython",
    "version": 3
   },
   "file_extension": ".py",
   "mimetype": "text/x-python",
   "name": "python",
   "nbconvert_exporter": "python",
   "pygments_lexer": "ipython3",
   "version": "3.8.6"
  }
 },
 "nbformat": 4,
 "nbformat_minor": 5
}
